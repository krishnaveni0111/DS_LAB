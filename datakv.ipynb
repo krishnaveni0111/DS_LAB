{
 "cells": [
  {
   "cell_type": "code",
   "execution_count": 2,
   "id": "1eb191ac",
   "metadata": {},
   "outputs": [
    {
     "name": "stdout",
     "output_type": "stream",
     "text": [
      "add two series:\n",
      "0     3\n",
      "1     7\n",
      "2    11\n",
      "3    15\n",
      "4    19\n",
      "dtype: int64\n",
      "subtract two series:\n",
      "0    1\n",
      "1    1\n",
      "2    1\n",
      "3    1\n",
      "4    1\n",
      "dtype: int64\n",
      "multiply two series:\n",
      "0     2\n",
      "1    12\n",
      "2    30\n",
      "3    56\n",
      "4    90\n",
      "dtype: int64\n",
      "divide series1 by series2:\n",
      "0    2.000000\n",
      "1    1.333333\n",
      "2    1.200000\n",
      "3    1.142857\n",
      "4    1.111111\n",
      "dtype: float64\n"
     ]
    }
   ],
   "source": [
    "import pandas as pd\n",
    "ds1=pd.Series([2,4,6,8,10])\n",
    "ds2=pd.Series([1,3,5,7,9])\n",
    "ds=ds1+ds2\n",
    "print(\"add two series:\")\n",
    "print(ds)\n",
    "print(\"subtract two series:\")\n",
    "ds=ds1-ds2\n",
    "print(ds)\n",
    "print(\"multiply two series:\")\n",
    "ds=ds1*ds2\n",
    "print(ds)\n",
    "print(\"divide series1 by series2:\")\n",
    "ds=ds1/ds2\n",
    "print(ds)\n"
   ]
  },
  {
   "cell_type": "markdown",
   "id": "af992c95",
   "metadata": {},
   "source": [
    "# dataframe"
   ]
  },
  {
   "cell_type": "code",
   "execution_count": 4,
   "id": "ed18e3b1",
   "metadata": {},
   "outputs": [
    {
     "name": "stdout",
     "output_type": "stream",
     "text": [
      "    X   Y   Z\n",
      "0  78  84  86\n",
      "1  85  94  97\n",
      "2  96  89  96\n",
      "3  80  83  72\n",
      "4  86  86  83\n"
     ]
    }
   ],
   "source": [
    "import pandas as pd\n",
    "df=pd.DataFrame({'X':[78,85,96,80,86],'Y':[84,94,89,83,86],'Z':[86,97,96,72,83]});\n",
    "print(df)"
   ]
  },
  {
   "cell_type": "markdown",
   "id": "95f2cf84",
   "metadata": {},
   "source": [
    "# SECOND DATAFRAME"
   ]
  },
  {
   "cell_type": "code",
   "execution_count": null,
   "id": "01eb26ed",
   "metadata": {},
   "outputs": [],
   "source": [
    "import pandas as pd\n",
    "import numpy as np\n",
    "exam_data={'name':['Anastasia','dima','katherine','james','emily','michael','matthew','laura','kevin','jonas'],\n",
    "           'score':[12.5,9,16.5,np.nan,9,20,14.5,np.nan,8,19],\n",
    "          'attempts':[1,3,2,3,2,3,1,1,2,1],\n",
    "          'quality':['yes','no','yes','no','no','yes','yes','no','no','yes']}\n",
    "labels=['a','b','c','d','e','f','g','h','i','j']\n",
    "df=pd.DataFrame(exam_data,index=labels)\n",
    "print(\"first thrree rows of the data frame:\")\n",
    "print(df.iloc[:3])"
   ]
  }
 ],
 "metadata": {
  "kernelspec": {
   "display_name": "Python 3 (ipykernel)",
   "language": "python",
   "name": "python3"
  },
  "language_info": {
   "codemirror_mode": {
    "name": "ipython",
    "version": 3
   },
   "file_extension": ".py",
   "mimetype": "text/x-python",
   "name": "python",
   "nbconvert_exporter": "python",
   "pygments_lexer": "ipython3",
   "version": "3.9.12"
  }
 },
 "nbformat": 4,
 "nbformat_minor": 5
}
